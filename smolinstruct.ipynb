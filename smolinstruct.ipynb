{
 "cells": [
  {
   "cell_type": "markdown",
   "id": "03fe320b",
   "metadata": {},
   "source": [
    "# The SMolInstruct dataset"
   ]
  },
  {
   "cell_type": "markdown",
   "id": "6a14fa58",
   "metadata": {},
   "source": [
    "* Repository: [LlaSMol](https://github.com/OSU-NLP-Group/LLM4Chem)\n",
    "* Pre-print: [arXiv:2402.09391](https://arxiv.org/abs/2402.09391)\n",
    "* Hugging Face Hub: [SMolInstruct Dataset](https://huggingface.co/datasets/osunlp/SMolInstruct)"
   ]
  },
  {
   "cell_type": "markdown",
   "id": "f9c3ef34",
   "metadata": {},
   "source": [
    "## Loading the Dataset from Hugging Face Hub"
   ]
  },
  {
   "cell_type": "code",
   "execution_count": null,
   "id": "d5ebab70",
   "metadata": {},
   "outputs": [],
   "source": [
    "# import the necessary modules\n",
    "from datasets import load_dataset"
   ]
  },
  {
   "cell_type": "code",
   "execution_count": null,
   "id": "064fa0f1",
   "metadata": {},
   "outputs": [],
   "source": [
    "# Load the dataset\n",
    "dataset = load_dataset(path='osunlp/SMolInstruct',\n",
    "                       trust_remote_code=True,\n",
    "                       split='train',\n",
    "                       cache_dir=\"./tmp\")"
   ]
  },
  {
   "cell_type": "code",
   "execution_count": null,
   "id": "ce5bc0ac",
   "metadata": {},
   "outputs": [],
   "source": [
    "# dataset structure\n",
    "dataset"
   ]
  },
  {
   "cell_type": "code",
   "execution_count": null,
   "id": "29583414",
   "metadata": {},
   "outputs": [],
   "source": [
    "# inspect the data samples\n",
    "dataset[\"train\"][0]"
   ]
  },
  {
   "cell_type": "markdown",
   "id": "c65d1803",
   "metadata": {},
   "source": [
    "## Using SELFIES"
   ]
  },
  {
   "cell_type": "code",
   "execution_count": null,
   "id": "6860b069",
   "metadata": {},
   "outputs": [],
   "source": [
    "# using SELFIES\n",
    "dataset_selfies = load_dataset(path='osunlp/SMolInstruct',\n",
    "                               trust_remote_code=True,\n",
    "                               cache_dir=\"./tmp\",\n",
    "                               use_selfies=True)\n",
    "\n",
    "# inspecting a sample with SELFIES\n",
    "dataset_selfies[\"train\"][0]"
   ]
  },
  {
   "cell_type": "markdown",
   "id": "4a2aaba3",
   "metadata": {},
   "source": [
    "## Selecting Specific Tasks"
   ]
  },
  {
   "cell_type": "code",
   "execution_count": null,
   "id": "943a305f",
   "metadata": {},
   "outputs": [],
   "source": [
    "# setting the task tuple\n",
    "all_tasks = (\n",
    "  'forward_synthesis',\n",
    "  'retrosynthesis',\n",
    "  'molecule_captioning',\n",
    "  'molecule_generation',\n",
    "  'name_conversion-i2f',\n",
    "  'name_conversion-i2s',\n",
    "  'name_conversion-s2f',\n",
    "  'name_conversion-s2i',\n",
    "  'property_prediction-esol',\n",
    "  'property_prediction-lipo',\n",
    "  'property_prediction-bbbp',\n",
    "  'property_prediction-clintox',\n",
    "  'property_prediction-hiv',\n",
    "  'property_prediction-sider',\n",
    ")\n",
    "\n",
    "# selecting specific tasks\n",
    "task_dataset = load_dataset(path='osunlp/SMolInstruct',\n",
    "                           trust_remote_code=True,\n",
    "                           cache_dir=\"./tmp\",\n",
    "                           tasks=all_tasks[:2])  # example with first two tasks"
   ]
  },
  {
   "cell_type": "code",
   "execution_count": null,
   "id": "dbab6f79",
   "metadata": {},
   "outputs": [],
   "source": [
    "task_dataset[\"train\"].shuffle()[0]"
   ]
  },
  {
   "cell_type": "markdown",
   "id": "adb9bc2a",
   "metadata": {},
   "source": [
    "## Removing Task-Specific Tags"
   ]
  },
  {
   "cell_type": "code",
   "execution_count": null,
   "id": "82853e9d",
   "metadata": {},
   "outputs": [],
   "source": [
    "# removing task-specific tags from the inputs\n",
    "dataset_without_tags = load_dataset(path='osunlp/SMolInstruct',\n",
    "                                   trust_remote_code=True,\n",
    "                                   cache_dir=\"./tmp\",\n",
    "                                   insert_core_tags=False)\n",
    "\n",
    "# inspecting a sample without task-specific tags\n",
    "dataset_without_tags[\"train\"][0]"
   ]
  }
 ],
 "metadata": {
  "kernelspec": {
   "display_name": "bertchemai",
   "language": "python",
   "name": "python3"
  },
  "language_info": {
   "codemirror_mode": {
    "name": "ipython",
    "version": 3
   },
   "file_extension": ".py",
   "mimetype": "text/x-python",
   "name": "python",
   "nbconvert_exporter": "python",
   "pygments_lexer": "ipython3",
   "version": "3.10.16"
  }
 },
 "nbformat": 4,
 "nbformat_minor": 5
}
