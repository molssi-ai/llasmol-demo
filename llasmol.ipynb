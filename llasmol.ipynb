{
 "cells": [
  {
   "cell_type": "markdown",
   "id": "4c3f67cd",
   "metadata": {},
   "source": [
    "# LlaSMol: Advancing Large Language Models for Chemistry"
   ]
  },
  {
   "cell_type": "markdown",
   "id": "116949b5",
   "metadata": {},
   "source": [
    "* Repository: [LlaSMol](https://github.com/OSU-NLP-Group/LLM4Chem)\n",
    "* Pre-print: [arXiv:2402.09391](https://arxiv.org/abs/2402.09391)\n",
    "* Hugging Face Hub Collection: [LlaSMol Collection](https://huggingface.co/collections/osunlp/llasmol-6778699822ca8585edcc1c5d)"
   ]
  },
  {
   "cell_type": "markdown",
   "id": "5912b3a1",
   "metadata": {},
   "source": [
    "## Clone the GitHub Repository"
   ]
  },
  {
   "cell_type": "code",
   "execution_count": null,
   "id": "54a4f038",
   "metadata": {},
   "outputs": [],
   "source": [
    "!git clone https://github.com/OSU-NLP-Group/LLM4Chem.git"
   ]
  },
  {
   "cell_type": "code",
   "execution_count": null,
   "id": "c44dce37",
   "metadata": {},
   "outputs": [],
   "source": [
    "%cd LLM4Chem"
   ]
  },
  {
   "cell_type": "code",
   "execution_count": null,
   "id": "0da6b045",
   "metadata": {},
   "outputs": [],
   "source": [
    "# import the necessary modules\n",
    "from generation import LlaSMolGeneration\n",
    "\n",
    "# initialize the generator model\n",
    "generator = LlaSMolGeneration('osunlp/LlaSMol-Mistral-7B')"
   ]
  },
  {
   "cell_type": "markdown",
   "id": "2b46b4fd",
   "metadata": {},
   "source": [
    "## Name Conversion"
   ]
  },
  {
   "cell_type": "markdown",
   "id": "35ddba0b",
   "metadata": {},
   "source": [
    "### SMILES to IUPAC"
   ]
  },
  {
   "cell_type": "code",
   "execution_count": null,
   "id": "b04e9744",
   "metadata": {},
   "outputs": [],
   "source": [
    "generator.generate('Can you tell me the IUPAC name of <SMILES> c1ccccc1C(=O)O </SMILES> ?')"
   ]
  },
  {
   "cell_type": "markdown",
   "id": "6f456fdd",
   "metadata": {},
   "source": [
    "### SMILES to Molecular Formula"
   ]
  },
  {
   "cell_type": "code",
   "execution_count": null,
   "id": "15f8a42b",
   "metadata": {},
   "outputs": [],
   "source": [
    "generator.generate('What is the molecular formula of <SMILES> c1ccccc1C(=O)O </SMILES>?')"
   ]
  },
  {
   "cell_type": "markdown",
   "id": "85ae40c8",
   "metadata": {},
   "source": [
    "### IUPAC to SMILES"
   ]
  },
  {
   "cell_type": "code",
   "execution_count": null,
   "id": "894916aa",
   "metadata": {},
   "outputs": [],
   "source": [
    "generator.generate('Could you provide the SMILES for <IUPAC> benzoic acid </IUPAC>?')"
   ]
  },
  {
   "cell_type": "markdown",
   "id": "fe5f6200",
   "metadata": {},
   "source": [
    "### IUPAC to Molecular Formula"
   ]
  },
  {
   "cell_type": "code",
   "execution_count": null,
   "id": "80a39f36",
   "metadata": {},
   "outputs": [],
   "source": [
    "generator.generate('Could you please give me the molecular formula for <IUPAC> benzoic acid </IUPAC>?')"
   ]
  },
  {
   "cell_type": "markdown",
   "id": "622e3795",
   "metadata": {},
   "source": [
    "## Molecule Description"
   ]
  },
  {
   "cell_type": "markdown",
   "id": "9a00cac5",
   "metadata": {},
   "source": [
    "### Molecule Captioning"
   ]
  },
  {
   "cell_type": "code",
   "execution_count": null,
   "id": "3c7fef4c",
   "metadata": {},
   "outputs": [],
   "source": [
    "generator.generate('Describe this molecule: <SMILES> c1ccccc1C(=O)O </SMILES>')"
   ]
  },
  {
   "cell_type": "markdown",
   "id": "a41790c3",
   "metadata": {},
   "source": [
    "### Molecule Generation"
   ]
  },
  {
   "cell_type": "code",
   "execution_count": null,
   "id": "495df157",
   "metadata": {},
   "outputs": [],
   "source": [
    "generator.generate('Give me a molecule based on the provided conditions: The molecule is composed of a benzene ring with a carboxylic acid group attached to it. ')"
   ]
  },
  {
   "cell_type": "markdown",
   "id": "b5996858",
   "metadata": {},
   "source": [
    "## Property Prediction"
   ]
  },
  {
   "cell_type": "markdown",
   "id": "b457f350",
   "metadata": {},
   "source": [
    "### ESOL"
   ]
  },
  {
   "cell_type": "code",
   "execution_count": null,
   "id": "3ca06864",
   "metadata": {},
   "outputs": [],
   "source": [
    "generator.generate('How soluble is <SMILES> c1ccccc1C(=O)O </SMILES> in water?')"
   ]
  },
  {
   "cell_type": "markdown",
   "id": "807032df",
   "metadata": {},
   "source": [
    "### LIPO"
   ]
  },
  {
   "cell_type": "code",
   "execution_count": null,
   "id": "5ebaff43",
   "metadata": {},
   "outputs": [],
   "source": [
    "generator.generate('Predict the octanol/water distribution coefficient logD under pH 7.4 for <SMILES> c1ccccc1C(=O)O </SMILES> in water.')"
   ]
  },
  {
   "cell_type": "markdown",
   "id": "2857e9f5",
   "metadata": {},
   "source": [
    "### BBBP"
   ]
  },
  {
   "cell_type": "code",
   "execution_count": null,
   "id": "85cad1fe",
   "metadata": {},
   "outputs": [],
   "source": [
    "generator.generate('Is blood-brain barrier permeability (BBBP) a property of <SMILES> c1ccccc1C(=O)O </SMILES> in water?')"
   ]
  },
  {
   "cell_type": "markdown",
   "id": "fe255242",
   "metadata": {},
   "source": [
    "### ClinTox"
   ]
  },
  {
   "cell_type": "code",
   "execution_count": null,
   "id": "c905bede",
   "metadata": {},
   "outputs": [],
   "source": [
    "generator.generate('Is <SMILES> c1ccccc1C(=O)O </SMILES> toxic to humans?')"
   ]
  },
  {
   "cell_type": "markdown",
   "id": "47b6cc21",
   "metadata": {},
   "source": [
    "### HIV"
   ]
  },
  {
   "cell_type": "code",
   "execution_count": null,
   "id": "7e932c6c",
   "metadata": {},
   "outputs": [],
   "source": [
    "generator.generate('Can <SMILES> c1ccccc1C(=O)O </SMILES> inhibit HIV replication?')"
   ]
  },
  {
   "cell_type": "markdown",
   "id": "89f4a5da",
   "metadata": {},
   "source": [
    "### SIDER"
   ]
  },
  {
   "cell_type": "code",
   "execution_count": null,
   "id": "cd06436a",
   "metadata": {},
   "outputs": [],
   "source": [
    "generator.generate('Are there any known side effects of <SMILES> c1ccccc1C(=O)O </SMILES> affecting human heart?')"
   ]
  },
  {
   "cell_type": "markdown",
   "id": "f952b7f2",
   "metadata": {},
   "source": [
    "## Chemical Reaction"
   ]
  },
  {
   "cell_type": "markdown",
   "id": "97a37085",
   "metadata": {},
   "source": [
    "### Forward Synthesis"
   ]
  },
  {
   "cell_type": "code",
   "execution_count": null,
   "id": "9e9822a7",
   "metadata": {},
   "outputs": [],
   "source": [
    "generator.generate('<SMILES> c1ccccc1C(=O)O.CCO</SMILES> Based on the reactants and reagents provided, can you suggest a possible product?')"
   ]
  },
  {
   "cell_type": "markdown",
   "id": "e840ff69",
   "metadata": {},
   "source": [
    "### Retrosynthesis"
   ]
  },
  {
   "cell_type": "code",
   "execution_count": null,
   "id": "8912d240",
   "metadata": {},
   "outputs": [],
   "source": [
    "generator.generate('Suggest possible reactants that could have been used to synthesize <SMILES> CCOC(=O)C1=CC=CC=C1 </SMILES>.')"
   ]
  },
  {
   "cell_type": "markdown",
   "id": "17caeb58",
   "metadata": {},
   "source": [
    "## Off-Domain Prediction"
   ]
  },
  {
   "cell_type": "markdown",
   "id": "b286b5e6",
   "metadata": {},
   "source": [
    "### Molecular Formula to SMILES"
   ]
  },
  {
   "cell_type": "code",
   "execution_count": null,
   "id": "01d68848",
   "metadata": {},
   "outputs": [],
   "source": [
    "generator.generate('Could you provide the molecular formula for <SMILES> c1ccccc1C(=O)O </SMILES> ?')"
   ]
  },
  {
   "cell_type": "markdown",
   "id": "ae492268",
   "metadata": {},
   "source": [
    "### Molecular Formula to IUPAC"
   ]
  },
  {
   "cell_type": "code",
   "execution_count": null,
   "id": "995066d8",
   "metadata": {},
   "outputs": [],
   "source": [
    "generator.generate('Could you provide the IUPAC name for <MOLFORMULA> C7H6O2 </MOLFORMULA> ?')"
   ]
  },
  {
   "cell_type": "markdown",
   "id": "fddcff27",
   "metadata": {},
   "source": [
    "## Hugging Face Hub Usage"
   ]
  },
  {
   "cell_type": "code",
   "execution_count": null,
   "id": "f4e696da",
   "metadata": {},
   "outputs": [],
   "source": [
    "from transformers import AutoModelForCausalLM, AutoTokenizer, GenerationConfig\n",
    "from peft import PeftModelForCausalLM\n",
    "import torch\n",
    "import os\n",
    "import sys"
   ]
  },
  {
   "cell_type": "code",
   "execution_count": null,
   "id": "e3f36a0a",
   "metadata": {},
   "outputs": [],
   "source": [
    "# set the Hub path variables to the base and fine-tuned models\n",
    "base_model = \"mistralai/Mistral-7B-v0.1\"\n",
    "model_name = \"osunlp/LlaSMol-Mistral-7B\"\n",
    "\n",
    "# fetch the models from Hugging Face Hub\n",
    "model = AutoModelForCausalLM.from_pretrained(\n",
    "    base_model,\n",
    "    torch_dtype=torch.bfloat16,\n",
    "    device_map=\"auto\",\n",
    "    token=os.environ.get(\"HF_TOKEN\")\n",
    ")\n",
    "\n",
    "# load the fine-tuned model\n",
    "model = PeftModelForCausalLM.from_pretrained(\n",
    "    model,\n",
    "    model_name,\n",
    "    torch_dtype=torch.bfloat16,\n",
    "    token=os.environ.get(\"HF_TOKEN\")\n",
    ")\n",
    "\n",
    "# fetch the tokenizer from the Hugging Face Hub\n",
    "tokenizer = AutoTokenizer.from_pretrained(base_model)"
   ]
  },
  {
   "cell_type": "code",
   "execution_count": null,
   "id": "0f215458",
   "metadata": {},
   "outputs": [],
   "source": [
    "# setup tokenizer special tokens\n",
    "tokenizer.padding_side = 'left'\n",
    "tokenizer.pad_token = '<pad>'\n",
    "tokenizer.sep_token = '<unk>'\n",
    "tokenizer.cls_token = '<unk>'\n",
    "tokenizer.mask_token = '<unk>'\n",
    "\n",
    "# make sure the model's config to use the tokenizer's special tokens\n",
    "model.config.pad_token_id = tokenizer.pad_token_id\n",
    "model.config.bos_token_id = tokenizer.bos_token_id\n",
    "model.config.eos_token_id = tokenizer.eos_token_id\n",
    "\n",
    "# compile the model for performance\n",
    "model.eval()\n",
    "if torch.__version__ >= \"2\" and sys.platform != \"win32\":\n",
    "    model = torch.compile(model)"
   ]
  },
  {
   "cell_type": "code",
   "execution_count": null,
   "id": "67b7c20e",
   "metadata": {},
   "outputs": [],
   "source": [
    "# use utility functions for chat and prompt generation\n",
    "from utils.chat_generation import generate_chat\n",
    "from utils.general_prompter import GeneralPrompter, get_chat_content\n",
    "\n",
    "# sample input text from the user\n",
    "input_text = \"Could you provide the SMILES for <IUPAC> benzoic acid </IUPAC>?\"\n",
    "\n",
    "# create the prompt and the chat between user and the assistant\n",
    "prompter = GeneralPrompter(get_chat_content)\n",
    "chat = generate_chat(input_text, output_text=None)\n",
    "print(chat)\n",
    "\n",
    "# generate the full prompt for the model generation\n",
    "full_prompt = prompter.generate_prompt(chat)\n",
    "print(full_prompt)"
   ]
  },
  {
   "cell_type": "code",
   "execution_count": null,
   "id": "ccd6d537",
   "metadata": {},
   "outputs": [],
   "source": [
    "# encode the full prompt into input IDs for the model\n",
    "input_ids = tokenizer.encode(full_prompt, return_tensors=\"pt\", padding=True, add_special_tokens=False)\n",
    "input_ids"
   ]
  },
  {
   "cell_type": "code",
   "execution_count": null,
   "id": "ea5cfe63",
   "metadata": {},
   "outputs": [],
   "source": [
    "# test the tokenizer by decoding the input IDs\n",
    "tokenizer.decode(input_ids[0])"
   ]
  },
  {
   "cell_type": "code",
   "execution_count": null,
   "id": "a213e8ad",
   "metadata": {},
   "outputs": [],
   "source": [
    "generation_settings = {}\n",
    "\n",
    "generation_config = GenerationConfig(\n",
    "    pad_token_id=model.config.pad_token_id,\n",
    "    bos_token_id=model.config.bos_token_id,\n",
    "    eos_token_id=model.config.eos_token_id,\n",
    "    **generation_settings,\n",
    ")\n",
    "\n",
    "model.eval()\n",
    "with torch.no_grad():\n",
    "    generation_output = model.generate(\n",
    "        input_ids=input_ids,\n",
    "        generation_config=generation_config,\n",
    "        return_dict_in_generate=True,\n",
    "        output_scores=True,\n",
    "        max_new_tokens=1024,\n",
    "    )\n",
    "s = generation_output.sequences\n",
    "output = tokenizer.batch_decode(s, skip_special_tokens=False)\n",
    "\n",
    "output_text = []\n",
    "for output_item in output:\n",
    "    text = prompter.get_response(output_item)\n",
    "    output_text.append(text)\n",
    "\n",
    "print(output_text)"
   ]
  }
 ],
 "metadata": {
  "kernelspec": {
   "display_name": "bertchemai",
   "language": "python",
   "name": "python3"
  },
  "language_info": {
   "codemirror_mode": {
    "name": "ipython",
    "version": 3
   },
   "file_extension": ".py",
   "mimetype": "text/x-python",
   "name": "python",
   "nbconvert_exporter": "python",
   "pygments_lexer": "ipython3",
   "version": "3.10.16"
  }
 },
 "nbformat": 4,
 "nbformat_minor": 5
}
